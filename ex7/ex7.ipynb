{
 "cells": [
  {
   "cell_type": "markdown",
   "metadata": {},
   "source": [
    "# Задание:\n",
    "<ul>\n",
    "<li>Заменить значения '-' на null</li>\n",
    "<li>Заменить все символы переноса строки на пробел</li>\n",
    "<li>Валидировать что:\n",
    "<ul>\n",
    "<li>В колонках Flow ID, Vessel IMO находятся целые числа. Если нет - записать в лог как error в формате Файл - Лист - Ячейка - Ошибка, установить значение ячейки в null</li>\n",
    "<li>В колонках Departure Date, Last Updated, Arrival Date To, Load Date From, Arrival Date находятся даты. Если нет - записать в лог как error в формате Файл - Лист - Ячейка - Ошибка, установить значение ячейки в null</li>\n",
    "<li>В колонке Volume находятся только числа. Если нет - записать в лог как error, удалить строку</li>\n",
    "</ul>\n",
    "</li>\n",
    "<li>Важно! Убедиться, что не были удалены лишние строки</li>\n",
    "На месте удаленных строк нет пустых строк, при удалении строки общее количество строк сокращается\n",
    "</ul>"
   ]
  },
  {
   "cell_type": "code",
   "execution_count": 1,
   "metadata": {},
   "outputs": [],
   "source": [
    "import os\n",
    "import shutil \n",
    "import numpy as np\n",
    "import pandas as pd\n",
    "from datetime import datetime\n",
    "import xlrd\n",
    "import re\n",
    "import logging"
   ]
  },
  {
   "cell_type": "code",
   "execution_count": null,
   "metadata": {},
   "outputs": [],
   "source": [
    "def check_integer(data_frame,*columns):\n",
    "    '''\n",
    "    Checking value. If value not integer, logging this in log file.\n",
    "    '''\n",
    "    for column in columns:\n",
    "        for row_index in range(df.shape[0]):\n",
    "            try:\n",
    "                data_frame.loc[row_index, column].isdigit\n",
    "            except:\n",
    "                logging.error(f'File name: {file_name}, sheet: {file_sheet_name}, cell: {row_index},{column}, error: value not integer')\n",
    "                data_frame.loc[row_index, column] = np.nan"
   ]
  },
  {
   "cell_type": "code",
   "execution_count": 9,
   "metadata": {},
   "outputs": [],
   "source": [
    "def check_to_date(data_frame,*columns):\n",
    "    '''\n",
    "    Checking value. If value not date like in a patern, logging this in log file and replace value on nan.\n",
    "    '''\n",
    "    type_ = datetime.now()\n",
    "    for column in columns:\n",
    "       # data_frame[column].to_datetime()\n",
    "        for row_index in range(data_frame.shape[0]):\n",
    "            if not re.match(r'\\d{4}-\\d{2}-\\d{2}\\s\\d{2}:\\d{2}:\\d{2}',str(data_frame.loc[row_index,column])):\n",
    "                logging.error(f'File name: {file_name}, sheet: {file_sheet_name}, cell: {row_index},{column}, error: value not date')\n",
    "                data_frame.loc[row_index, column] = np.nan"
   ]
  },
  {
   "cell_type": "code",
   "execution_count": 30,
   "metadata": {},
   "outputs": [],
   "source": [
    "def is_digit(string):\n",
    "    '''\n",
    "    Checking value. If value not number, logging this in log file.\n",
    "    '''\n",
    "    if string.isdigit():\n",
    "        return True\n",
    "    else:\n",
    "        try:\n",
    "            if string == 'nan':\n",
    "                return False\n",
    "            else:\n",
    "                float(string)\n",
    "                return True\n",
    "        except ValueError:\n",
    "            return False"
   ]
  },
  {
   "cell_type": "code",
   "execution_count": 2,
   "metadata": {},
   "outputs": [],
   "source": [
    "file_name = 'Задача 7.xls'\n",
    "file_sheet_name = 'Trade flows'\n",
    "df = pd.read_excel(file_name, sheet_name=file_sheet_name)"
   ]
  },
  {
   "cell_type": "code",
   "execution_count": 6,
   "metadata": {},
   "outputs": [],
   "source": [
    "logging.basicConfig(filename='log.log',level = logging.DEBUG)"
   ]
  },
  {
   "cell_type": "code",
   "execution_count": 3,
   "metadata": {},
   "outputs": [],
   "source": [
    "df.replace(to_replace=r'-', value=np.nan, regex=True, inplace =True)"
   ]
  },
  {
   "cell_type": "code",
   "execution_count": 5,
   "metadata": {},
   "outputs": [],
   "source": [
    "df.replace(to_replace=r'\\n', value=r' ', regex=True, inplace =True)"
   ]
  },
  {
   "cell_type": "code",
   "execution_count": 8,
   "metadata": {},
   "outputs": [],
   "source": [
    "check_integer(df,'Flow ID','Vessel IMO')"
   ]
  },
  {
   "cell_type": "code",
   "execution_count": 10,
   "metadata": {},
   "outputs": [],
   "source": [
    "check_to_date(df, 'Departure Date', 'Last Updated', 'Arrival Date To', 'Load Date From', 'Arrival Date')"
   ]
  },
  {
   "cell_type": "code",
   "execution_count": 36,
   "metadata": {},
   "outputs": [
    {
     "name": "stdout",
     "output_type": "stream",
     "text": [
      "[0, 4, 9, 12, 15, 22, 23, 30, 33, 73, 74, 75, 84, 90, 95]\n",
      "15\n"
     ]
    }
   ],
   "source": [
    "#this list contain all index of rows that we need to remove\n",
    "list_of_index = []\n",
    "for row_index in range(df.shape[0]):\n",
    "    if not is_digit(str(df.loc[row_index, 'Volume'])):\n",
    "        list_of_index.append(row_index)\n"
   ]
  },
  {
   "cell_type": "code",
   "execution_count": 35,
   "metadata": {},
   "outputs": [
    {
     "data": {
      "text/plain": [
       "(188, 46)"
      ]
     },
     "execution_count": 35,
     "metadata": {},
     "output_type": "execute_result"
    }
   ],
   "source": [
    "df.shape"
   ]
  },
  {
   "cell_type": "code",
   "execution_count": 39,
   "metadata": {},
   "outputs": [],
   "source": [
    "df.drop(df.index[list_of_index], inplace = True)"
   ]
  },
  {
   "cell_type": "code",
   "execution_count": 40,
   "metadata": {},
   "outputs": [
    {
     "data": {
      "text/plain": [
       "(173, 46)"
      ]
     },
     "execution_count": 40,
     "metadata": {},
     "output_type": "execute_result"
    }
   ],
   "source": [
    "df.shape"
   ]
  },
  {
   "cell_type": "code",
   "execution_count": 14,
   "metadata": {},
   "outputs": [],
   "source": [
    "logging.shutdown()"
   ]
  },
  {
   "cell_type": "code",
   "execution_count": 43,
   "metadata": {},
   "outputs": [],
   "source": [
    "#if you need to check changes\n",
    "#df.to_excel('f.xlsx',index=False)"
   ]
  }
 ],
 "metadata": {
  "kernelspec": {
   "display_name": "Python 3",
   "language": "python",
   "name": "python3"
  },
  "language_info": {
   "codemirror_mode": {
    "name": "ipython",
    "version": 3
   },
   "file_extension": ".py",
   "mimetype": "text/x-python",
   "name": "python",
   "nbconvert_exporter": "python",
   "pygments_lexer": "ipython3",
   "version": "3.8.3"
  }
 },
 "nbformat": 4,
 "nbformat_minor": 4
}
