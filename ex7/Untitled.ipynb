{
 "cells": [
  {
   "cell_type": "markdown",
   "metadata": {},
   "source": [
    "# Задание:\n",
    "<ul>\n",
    "<li>Заменить значения '-' на null</li>\n",
    "<li>Заменить все символы переноса строки на пробел</li>\n",
    "<li>Валидировать что:\n",
    "<ul>\n",
    "<li>В колонках Flow ID, Vessel IMO находятся целые числа. Если нет - записать в лог как error в формате Файл - Лист - Ячейка - Ошибка, установить значение ячейки в null</li>\n",
    "<li>В колонках Departure Date, Last Updated, Arrival Date To, Load Date From, Arrival Date находятся даты. Если нет - записать в лог как error в формате Файл - Лист - Ячейка - Ошибка, установить значение ячейки в null</li>\n",
    "<li>В колонке Volume находятся только числа. Если нет - записать в лог как error, удалить строку</li>\n",
    "</ul>\n",
    "</li>\n",
    "<li>Важно! Убедиться, что не были удалены лишние строки</li>\n",
    "На месте удаленных строк нет пустых строк, при удалении строки общее количество строк сокращается\n",
    "</ul>"
   ]
  },
  {
   "cell_type": "code",
   "execution_count": 1,
   "metadata": {},
   "outputs": [],
   "source": [
    "import os\n",
    "import shutil \n",
    "import numpy as np\n",
    "import pandas as pd\n",
    "from datetime import datetime\n",
    "import xlrd\n",
    "import re\n",
    "import logging"
   ]
  },
  {
   "cell_type": "code",
   "execution_count": 2,
   "metadata": {},
   "outputs": [],
   "source": [
    "file_name = 'Задача 7.xls'\n",
    "file_sheet_name = 'Trade flows'\n",
    "df = pd.read_excel(file_name, sheet_name=file_sheet_name)"
   ]
  },
  {
   "cell_type": "code",
   "execution_count": 3,
   "metadata": {},
   "outputs": [],
   "source": [
    "df.replace(to_replace=r'-', value=np.nan, regex=True, inplace =True)"
   ]
  },
  {
   "cell_type": "code",
   "execution_count": 4,
   "metadata": {},
   "outputs": [
    {
     "data": {
      "text/plain": [
       "nan"
      ]
     },
     "execution_count": 4,
     "metadata": {},
     "output_type": "execute_result"
    }
   ],
   "source": [
    "df.loc[22,'Volume']"
   ]
  },
  {
   "cell_type": "code",
   "execution_count": 5,
   "metadata": {},
   "outputs": [],
   "source": [
    "df.replace(to_replace=r'\\n', value=r' ', regex=True, inplace =True)"
   ]
  },
  {
   "cell_type": "code",
   "execution_count": 6,
   "metadata": {},
   "outputs": [],
   "source": [
    "logging.basicConfig(filename='log.log',level = logging.DEBUG)"
   ]
  },
  {
   "cell_type": "code",
   "execution_count": 7,
   "metadata": {},
   "outputs": [],
   "source": [
    "def check_integer(data_frame,*columns):\n",
    "    for column in columns:\n",
    "        for row_index in range(df.shape[0]):\n",
    "            try:\n",
    "                data_frame.loc[row_index, column].isdigit\n",
    "            except:\n",
    "                logging.error(f'File name: {file_name}, sheet: {file_sheet_name}, cell: {row_index},{column}, error: value not integer')\n",
    "                data_frame.loc[row_index, column] = np.nan"
   ]
  },
  {
   "cell_type": "code",
   "execution_count": 8,
   "metadata": {},
   "outputs": [],
   "source": [
    "check_integer(df,'Flow ID','Vessel IMO')"
   ]
  },
  {
   "cell_type": "code",
   "execution_count": 9,
   "metadata": {},
   "outputs": [],
   "source": [
    "def check_to_date(data_frame,*columns):\n",
    "    type_ = datetime.now()\n",
    "    for column in columns:\n",
    "        for row_index in range(df.shape[0]):\n",
    "            if type(df.loc[row_index,column]) != type(type_):\n",
    "                logging.error(f'File name: {file_name}, sheet: {file_sheet_name}, cell: {row_index},{column}, error: value not date')\n",
    "                data_frame.loc[row_index, column] = np.nan"
   ]
  },
  {
   "cell_type": "code",
   "execution_count": 10,
   "metadata": {},
   "outputs": [],
   "source": [
    "check_to_date(df, 'Departure Date', 'Last Updated', 'Arrival Date To', 'Load Date From', 'Arrival Date')"
   ]
  },
  {
   "cell_type": "code",
   "execution_count": 19,
   "metadata": {},
   "outputs": [
    {
     "ename": "AttributeError",
     "evalue": "module 'pandas' has no attribute 'infer_objects'",
     "output_type": "error",
     "traceback": [
      "\u001b[1;31m---------------------------------------------------------------------------\u001b[0m",
      "\u001b[1;31mAttributeError\u001b[0m                            Traceback (most recent call last)",
      "\u001b[1;32m<ipython-input-19-0d442802ff6a>\u001b[0m in \u001b[0;36m<module>\u001b[1;34m\u001b[0m\n\u001b[1;32m----> 1\u001b[1;33m \u001b[0mpd\u001b[0m\u001b[1;33m.\u001b[0m\u001b[0minfer_objects\u001b[0m\u001b[1;33m(\u001b[0m\u001b[0mdf\u001b[0m\u001b[1;33m.\u001b[0m\u001b[0mloc\u001b[0m\u001b[1;33m[\u001b[0m\u001b[1;36m6\u001b[0m\u001b[1;33m,\u001b[0m\u001b[1;34m'Departure Date'\u001b[0m\u001b[1;33m]\u001b[0m\u001b[1;33m)\u001b[0m\u001b[1;33m\u001b[0m\u001b[1;33m\u001b[0m\u001b[0m\n\u001b[0m",
      "\u001b[1;32mc:\\users\\adyan.beltikov\\appdata\\local\\programs\\python\\python38-32\\lib\\site-packages\\pandas\\__init__.py\u001b[0m in \u001b[0;36m__getattr__\u001b[1;34m(name)\u001b[0m\n\u001b[0;32m    261\u001b[0m             \u001b[1;32mreturn\u001b[0m \u001b[0m_SparseArray\u001b[0m\u001b[1;33m\u001b[0m\u001b[1;33m\u001b[0m\u001b[0m\n\u001b[0;32m    262\u001b[0m \u001b[1;33m\u001b[0m\u001b[0m\n\u001b[1;32m--> 263\u001b[1;33m         \u001b[1;32mraise\u001b[0m \u001b[0mAttributeError\u001b[0m\u001b[1;33m(\u001b[0m\u001b[1;34mf\"module 'pandas' has no attribute '{name}'\"\u001b[0m\u001b[1;33m)\u001b[0m\u001b[1;33m\u001b[0m\u001b[1;33m\u001b[0m\u001b[0m\n\u001b[0m\u001b[0;32m    264\u001b[0m \u001b[1;33m\u001b[0m\u001b[0m\n\u001b[0;32m    265\u001b[0m \u001b[1;33m\u001b[0m\u001b[0m\n",
      "\u001b[1;31mAttributeError\u001b[0m: module 'pandas' has no attribute 'infer_objects'"
     ]
    }
   ],
   "source": [
    "pd.infer_objects(df.loc[6,'Departure Date'])"
   ]
  },
  {
   "cell_type": "code",
   "execution_count": 12,
   "metadata": {},
   "outputs": [],
   "source": [
    "logging.shutdown()"
   ]
  }
 ],
 "metadata": {
  "kernelspec": {
   "display_name": "Python 3",
   "language": "python",
   "name": "python3"
  },
  "language_info": {
   "codemirror_mode": {
    "name": "ipython",
    "version": 3
   },
   "file_extension": ".py",
   "mimetype": "text/x-python",
   "name": "python",
   "nbconvert_exporter": "python",
   "pygments_lexer": "ipython3",
   "version": "3.8.3"
  }
 },
 "nbformat": 4,
 "nbformat_minor": 4
}
