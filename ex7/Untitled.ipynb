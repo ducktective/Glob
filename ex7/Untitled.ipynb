{
 "cells": [
  {
   "cell_type": "markdown",
   "metadata": {},
   "source": [
    "# Задание:\n",
    "<ul>\n",
    "<li>Заменить значения '-' на null</li>\n",
    "<li>Заменить все символы переноса строки на пробел</li>\n",
    "<li>Валидировать что:\n",
    "<ul>\n",
    "<li>В колонках Flow ID, Vessel IMO находятся целые числа. Если нет - записать в лог как error в формате Файл - Лист - Ячейка - Ошибка, установить значение ячейки в null</li>\n",
    "<li>В колонках Departure Date, Last Updated, Arrival Date To, Load Date From, Arrival Date находятся даты. Если нет - записать в лог как error в формате Файл - Лист - Ячейка - Ошибка, установить значение ячейки в null</li>\n",
    "<li>В колонке Volume находятся только числа. Если нет - записать в лог как error, удалить строку</li>\n",
    "</ul>\n",
    "</li>\n",
    "<li>Важно! Убедиться, что не были удалены лишние строки</li>\n",
    "На месте удаленных строк нет пустых строк, при удалении строки общее количество строк сокращается\n",
    "</ul>"
   ]
  },
  {
   "cell_type": "code",
   "execution_count": null,
   "metadata": {},
   "outputs": [],
   "source": [
    "import os\n",
    "import shutil \n",
    "import numpy as np\n",
    "import pandas as pd\n",
    "from datetime import datetime\n",
    "import xlrd\n",
    "import re\n",
    "import logging"
   ]
  }
 ],
 "metadata": {
  "kernelspec": {
   "display_name": "Python 3",
   "language": "python",
   "name": "python3"
  },
  "language_info": {
   "codemirror_mode": {
    "name": "ipython",
    "version": 3
   },
   "file_extension": ".py",
   "mimetype": "text/x-python",
   "name": "python",
   "nbconvert_exporter": "python",
   "pygments_lexer": "ipython3",
   "version": "3.8.3"
  }
 },
 "nbformat": 4,
 "nbformat_minor": 4
}
