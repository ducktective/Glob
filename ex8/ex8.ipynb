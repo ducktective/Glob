{
 "cells": [
  {
   "cell_type": "markdown",
   "metadata": {},
   "source": [
    "# Задание 8\n",
    "<ol>\n",
    "<li>Прочитать excel  в df</li>\n",
    "<li>Удалить компании статус которых ‘Liquidating’ или ‘Out of Business’</li>\n",
    "<li>Создать два df</li>\n",
    "    <ul>\n",
    "    <li>Колонки для первого: Company Name, Product Name,  Product Description, Company Status,  Industry Classifications</li>\n",
    "    <li>Колонки для второго: Company Name, SIC Codes</li> \n",
    "    <li>*остальное нам не нужно</li>\n",
    "    </ul>\n",
    "<li>Парсинг полей:\n",
    "    <ol>\n",
    "    <li>Для первого разделить\n",
    "        <ul>\n",
    "        <li>по ‘;’\n",
    "            <ol>\n",
    "        <li>    Product Name</li>\n",
    "        <li>    Industry Classifications</li>\n",
    "            </ol></li>\n",
    "        <li>По ‘\\n\\n’\n",
    "            <ul>\n",
    "                <li>\n",
    "        :    Product Description\n",
    "                    </li>\n",
    "</ul>\n",
    "                </li> \n",
    "        </ul>   \n",
    "    </li>\n",
    "    <li>\n",
    "    Для второго:\n",
    "        <ul>\n",
    "        <li>Сначала объединить все коды: Для каждой компании “SIC Codes” - объединяем значения, оставляем уникальные (напр. SIC коды: (0001,0002)+(0001,0004,0005) -> (0001, 0002, 0004, 0005))</li>\n",
    "        <li>Затем добавить новую колонку с разделенными sic codes по ‘;’</li>\n",
    "        </ul>    \n",
    "    </li>    \n",
    "        </ol>\n",
    "</li>\n",
    "<li>Убрать дубли для каждого df</li>\n",
    "<li>Записать оба df в csv\n",
    "    <ul>\n",
    "    <li>Название для первого - Products</li>\n",
    "    <li>Для второго - Sic_Codes</li>\n",
    "    </ul>\n",
    "</li>\n",
    "</ol>"
   ]
  },
  {
   "cell_type": "code",
   "execution_count": 1,
   "metadata": {},
   "outputs": [],
   "source": [
    "import os\n",
    "import shutil \n",
    "import numpy as np\n",
    "import pandas as pd\n",
    "from datetime import datetime\n",
    "import xlrd\n",
    "import re\n",
    "from itertools import chain"
   ]
  },
  {
   "cell_type": "code",
   "execution_count": 2,
   "metadata": {},
   "outputs": [],
   "source": [
    "file_name = 'Задание 8.xls'\n",
    "file_sheet_name = 'Screening'\n",
    "df = pd.read_excel(file_name, file_sheet_name, header = 7)"
   ]
  },
  {
   "cell_type": "code",
   "execution_count": 3,
   "metadata": {},
   "outputs": [],
   "source": [
    "df = df.loc[~df['Company Status'].isin(['Liquidating','Out of Business'])]"
   ]
  },
  {
   "cell_type": "code",
   "execution_count": 4,
   "metadata": {},
   "outputs": [],
   "source": [
    "\n",
    "df = df.reset_index(drop=True)"
   ]
  },
  {
   "cell_type": "code",
   "execution_count": 5,
   "metadata": {},
   "outputs": [],
   "source": [
    "df1 = df.loc[:,['Company Name', 'Product Name', 'Product Description', 'Company Status', 'Industry Classifications']]\n",
    "df2 = df.loc[:,['Company Name', 'SIC Codes']]"
   ]
  },
  {
   "cell_type": "code",
   "execution_count": 6,
   "metadata": {},
   "outputs": [],
   "source": [
    "# return list from series of simbol separeted strings\n",
    "def chainer(s,split_simbol):\n",
    "    return list(chain.from_iterable(s.str.split(str(split_simbol))))\n"
   ]
  },
  {
   "cell_type": "code",
   "execution_count": 7,
   "metadata": {},
   "outputs": [],
   "source": [
    "# calculate lengths of splits\n",
    "lens = df1['Product Name'].str.split(';').map(len)\n",
    "# create new dataframe, repeating or chaining as appropriate\n",
    "df1 = pd.DataFrame({'Company Name': np.repeat(df1['Company Name'], lens),\n",
    "                    'Product Name': chainer(df1['Product Name'],';'),\n",
    "                    'Product Description': np.repeat(df1['Product Description'], lens),\n",
    "                    'Company Status': np.repeat(df1['Company Status'], lens),\n",
    "                    'Industry Classifications': np.repeat(df1['Industry Classifications'], lens)})"
   ]
  },
  {
   "cell_type": "code",
   "execution_count": 8,
   "metadata": {},
   "outputs": [],
   "source": [
    "# calculate lengths of splits\n",
    "lens = df1['Industry Classifications'].str.split(';').map(len)\n",
    "# create new dataframe, repeating or chaining as appropriate\n",
    "df1 = pd.DataFrame({'Company Name': np.repeat(df1['Company Name'], lens),\n",
    "                    'Product Name': np.repeat(df1['Product Name'], lens),\n",
    "                    'Product Description': np.repeat(df1['Product Description'], lens),\n",
    "                    'Company Status': np.repeat(df1['Company Status'], lens),\n",
    "                    'Industry Classifications': chainer(df1['Industry Classifications'],';')})"
   ]
  },
  {
   "cell_type": "code",
   "execution_count": 9,
   "metadata": {},
   "outputs": [],
   "source": [
    "# calculate lengths of splits\n",
    "lens = df1['Product Description'].str.split('\\n\\n').map(len)\n",
    "# create new dataframe, repeating or chaining as appropriate\n",
    "df1 = pd.DataFrame({'Company Name': np.repeat(df1['Company Name'], lens),\n",
    "                    'Product Name': np.repeat(df1['Product Name'],lens),\n",
    "                    'Product Description': chainer(df1['Product Description'], '\\n\\n'),\n",
    "                    'Company Status': np.repeat(df1['Company Status'], lens),\n",
    "                    'Industry Classifications': np.repeat(df1['Industry Classifications'], lens)})"
   ]
  },
  {
   "cell_type": "code",
   "execution_count": 10,
   "metadata": {
    "scrolled": true
   },
   "outputs": [],
   "source": [
    "for i in range(len(df2)):\n",
    "    temporary_variavle = str(df2.loc[i,'SIC Codes'])\n",
    "    temporary_variavle = set(temporary_variavle.split(';'))\n",
    "    temporary_variavle = str(temporary_variavle).replace('{','').replace('}','').replace(r\"'\",'').replace(',',';')\n",
    "    df2.loc[i,'SIC Codes'] = temporary_variavle\n",
    "    df2.loc[i,'SIC CODES with ; ssepareted'] = temporary_variavle"
   ]
  },
  {
   "cell_type": "code",
   "execution_count": 11,
   "metadata": {},
   "outputs": [],
   "source": [
    "df1.drop_duplicates(inplace=True)\n",
    "df2.drop_duplicates(inplace=True)"
   ]
  },
  {
   "cell_type": "code",
   "execution_count": 13,
   "metadata": {},
   "outputs": [
    {
     "data": {
      "text/html": [
       "<div>\n",
       "<style scoped>\n",
       "    .dataframe tbody tr th:only-of-type {\n",
       "        vertical-align: middle;\n",
       "    }\n",
       "\n",
       "    .dataframe tbody tr th {\n",
       "        vertical-align: top;\n",
       "    }\n",
       "\n",
       "    .dataframe thead th {\n",
       "        text-align: right;\n",
       "    }\n",
       "</style>\n",
       "<table border=\"1\" class=\"dataframe\">\n",
       "  <thead>\n",
       "    <tr style=\"text-align: right;\">\n",
       "      <th></th>\n",
       "      <th>Company Name</th>\n",
       "      <th>SIC Codes</th>\n",
       "      <th>SIC CODES with ; ssepareted</th>\n",
       "    </tr>\n",
       "  </thead>\n",
       "  <tbody>\n",
       "    <tr>\n",
       "      <th>40</th>\n",
       "      <td>Vk Holding A/S</td>\n",
       "      <td>6719 Holding companies</td>\n",
       "      <td>6719 Holding companies</td>\n",
       "    </tr>\n",
       "    <tr>\n",
       "      <th>41</th>\n",
       "      <td>Vk Komplekt, Ooo</td>\n",
       "      <td>5039 Construction materials ;  5199 Nondurable...</td>\n",
       "      <td>5039 Construction materials ;  5199 Nondurable...</td>\n",
       "    </tr>\n",
       "    <tr>\n",
       "      <th>42</th>\n",
       "      <td>Vk System AB</td>\n",
       "      <td>5063 Electrical apparatus and equipment</td>\n",
       "      <td>5063 Electrical apparatus and equipment</td>\n",
       "    </tr>\n",
       "    <tr>\n",
       "      <th>43</th>\n",
       "      <td>Vk Tekhproekt, Tov</td>\n",
       "      <td>5039 Construction materials ;  5199 Nondurable...</td>\n",
       "      <td>5039 Construction materials ;  5199 Nondurable...</td>\n",
       "    </tr>\n",
       "    <tr>\n",
       "      <th>44</th>\n",
       "      <td>Vk Telecom Material Co., Ltd.</td>\n",
       "      <td>3691 Storage batteries</td>\n",
       "      <td>3691 Storage batteries</td>\n",
       "    </tr>\n",
       "    <tr>\n",
       "      <th>45</th>\n",
       "      <td>VK Union Corporation</td>\n",
       "      <td>5541 Gasoline service stations</td>\n",
       "      <td>5541 Gasoline service stations</td>\n",
       "    </tr>\n",
       "    <tr>\n",
       "      <th>46</th>\n",
       "      <td>Vk&amp;Sb Pty. Ltd.</td>\n",
       "      <td>5541 Gasoline service stations</td>\n",
       "      <td>5541 Gasoline service stations</td>\n",
       "    </tr>\n",
       "    <tr>\n",
       "      <th>47</th>\n",
       "      <td>Vk-Electric Oy</td>\n",
       "      <td>-</td>\n",
       "      <td>-</td>\n",
       "    </tr>\n",
       "    <tr>\n",
       "      <th>48</th>\n",
       "      <td>Vk-Electric Oy,  Distribution Network Contract...</td>\n",
       "      <td>-</td>\n",
       "      <td>-</td>\n",
       "    </tr>\n",
       "    <tr>\n",
       "      <th>49</th>\n",
       "      <td>Vk-Inzhiniring, Ooo</td>\n",
       "      <td>1629 Heavy construction</td>\n",
       "      <td>1629 Heavy construction</td>\n",
       "    </tr>\n",
       "    <tr>\n",
       "      <th>50</th>\n",
       "      <td>Vk-Tekhnologiya Nn, Ooo</td>\n",
       "      <td>3089 Plastics products</td>\n",
       "      <td>3089 Plastics products</td>\n",
       "    </tr>\n",
       "  </tbody>\n",
       "</table>\n",
       "</div>"
      ],
      "text/plain": [
       "                                         Company Name  \\\n",
       "40                                     Vk Holding A/S   \n",
       "41                                   Vk Komplekt, Ooo   \n",
       "42                                       Vk System AB   \n",
       "43                                 Vk Tekhproekt, Tov   \n",
       "44                      Vk Telecom Material Co., Ltd.   \n",
       "45                               VK Union Corporation   \n",
       "46                                    Vk&Sb Pty. Ltd.   \n",
       "47                                     Vk-Electric Oy   \n",
       "48  Vk-Electric Oy,  Distribution Network Contract...   \n",
       "49                                Vk-Inzhiniring, Ooo   \n",
       "50                            Vk-Tekhnologiya Nn, Ooo   \n",
       "\n",
       "                                            SIC Codes  \\\n",
       "40                             6719 Holding companies   \n",
       "41  5039 Construction materials ;  5199 Nondurable...   \n",
       "42            5063 Electrical apparatus and equipment   \n",
       "43  5039 Construction materials ;  5199 Nondurable...   \n",
       "44                             3691 Storage batteries   \n",
       "45                     5541 Gasoline service stations   \n",
       "46                     5541 Gasoline service stations   \n",
       "47                                                  -   \n",
       "48                                                  -   \n",
       "49                            1629 Heavy construction   \n",
       "50                             3089 Plastics products   \n",
       "\n",
       "                          SIC CODES with ; ssepareted  \n",
       "40                             6719 Holding companies  \n",
       "41  5039 Construction materials ;  5199 Nondurable...  \n",
       "42            5063 Electrical apparatus and equipment  \n",
       "43  5039 Construction materials ;  5199 Nondurable...  \n",
       "44                             3691 Storage batteries  \n",
       "45                     5541 Gasoline service stations  \n",
       "46                     5541 Gasoline service stations  \n",
       "47                                                  -  \n",
       "48                                                  -  \n",
       "49                            1629 Heavy construction  \n",
       "50                             3089 Plastics products  "
      ]
     },
     "execution_count": 13,
     "metadata": {},
     "output_type": "execute_result"
    }
   ],
   "source": [
    "df2.loc[40:50,:]"
   ]
  },
  {
   "cell_type": "code",
   "execution_count": 12,
   "metadata": {},
   "outputs": [],
   "source": [
    "df1.to_csv('Products.csv',index=False)\n",
    "df2.to_csv('Sic_Codes.csv',index=False)"
   ]
  }
 ],
 "metadata": {
  "kernelspec": {
   "display_name": "Python 3",
   "language": "python",
   "name": "python3"
  },
  "language_info": {
   "codemirror_mode": {
    "name": "ipython",
    "version": 3
   },
   "file_extension": ".py",
   "mimetype": "text/x-python",
   "name": "python",
   "nbconvert_exporter": "python",
   "pygments_lexer": "ipython3",
   "version": "3.8.3"
  }
 },
 "nbformat": 4,
 "nbformat_minor": 4
}
