{
 "cells": [
  {
   "cell_type": "markdown",
   "metadata": {},
   "source": [
    "## 0. Создать папку source, поместить туда файлы из приложения ( имитируем папки с источником данных)"
   ]
  },
  {
   "cell_type": "code",
   "execution_count": 1,
   "metadata": {},
   "outputs": [],
   "source": [
    "import os\n",
    "import shutil \n",
    "import numpy as np\n",
    "import pandas as pd\n",
    "from datetime import datetime\n",
    "import xlrd\n",
    "import re\n",
    "import logging"
   ]
  },
  {
   "cell_type": "markdown",
   "metadata": {},
   "source": [
    "## 1. Переместить файлы из папки source в папку data (имитируем перемещение)"
   ]
  },
  {
   "cell_type": "code",
   "execution_count": 2,
   "metadata": {},
   "outputs": [],
   "source": [
    "def file_check(dir_name):\n",
    "    '''Create list of all files and then delet .txt file\n",
    "        all_files that file which contain only excel files.\n",
    "    '''\n",
    "    if os.path.exists(dir_name):\n",
    "        all_files = os.listdir(dir_name)\n",
    "        i = 0\n",
    "        while i < len(all_files):\n",
    "            match = re.search(r'\\b\\.txt',str(all_files[i]))\n",
    "            if match:\n",
    "                del all_files[i]\n",
    "            i += 1\n",
    "        return all_files\n",
    "    else:\n",
    "        print('This dirrectory doesn\\'t exist.')\n",
    "        "
   ]
  },
  {
   "cell_type": "code",
   "execution_count": 3,
   "metadata": {},
   "outputs": [
    {
     "name": "stdout",
     "output_type": "stream",
     "text": [
      "['Задача 6 CAPACITIES.xlsx', 'Задача 6 REUTERS.xls']\n"
     ]
    }
   ],
   "source": [
    "all_files = file_check('source')\n",
    "print(all_files)"
   ]
  },
  {
   "cell_type": "code",
   "execution_count": 4,
   "metadata": {},
   "outputs": [],
   "source": [
    "#Create a log file. In the end of programm we will change name.\n",
    "logging.basicConfig(filename='log_file.log', level = logging.DEBUG)"
   ]
  },
  {
   "cell_type": "code",
   "execution_count": 5,
   "metadata": {},
   "outputs": [],
   "source": [
    "#Create directory\n",
    "try:\n",
    "    os.mkdir('data')\n",
    "except:\n",
    "    print('this folder already exist')"
   ]
  },
  {
   "cell_type": "code",
   "execution_count": 6,
   "metadata": {},
   "outputs": [],
   "source": [
    "def copy_files(all_files, source_directory, new_directory):\n",
    "    '''Copy files in new_dirrectory '''\n",
    "    for i in all_files:\n",
    "        try:\n",
    "            shutil.copy(r'{}\\{}'.format(source_directory, i), r'{}\\{}'.format(new_directory, i))\n",
    "        except:\n",
    "            print('This file doesn\\'t exist.')\n",
    "            logging.error('This files doesn\\'t exist')\n"
   ]
  },
  {
   "cell_type": "code",
   "execution_count": 7,
   "metadata": {},
   "outputs": [],
   "source": [
    "copy_files(all_files, 'source', 'data')"
   ]
  },
  {
   "cell_type": "markdown",
   "metadata": {},
   "source": [
    "## 2. Прочесть подряд все excel файлы в директории data в dataframe, писать имя читаемого файла в debug"
   ]
  },
  {
   "cell_type": "code",
   "execution_count": 8,
   "metadata": {},
   "outputs": [],
   "source": [
    "#Add file's names in log\n",
    "all_excell_files = []\n",
    "for i in all_files:\n",
    "    if i.endswith('.xls') or i.endswith('.xlsx'):\n",
    "        logging.debug('Add file {}'.format(i))\n",
    "        all_excell_files.append(i)\n"
   ]
  },
  {
   "cell_type": "code",
   "execution_count": 9,
   "metadata": {},
   "outputs": [
    {
     "data": {
      "text/plain": [
       "['Задача 6 CAPACITIES.xlsx', 'Задача 6 REUTERS.xls']"
      ]
     },
     "execution_count": 9,
     "metadata": {},
     "output_type": "execute_result"
    }
   ],
   "source": [
    "all_excell_files"
   ]
  },
  {
   "cell_type": "markdown",
   "metadata": {},
   "source": [
    "этот блок кода я оставил для своих нужд я пытался вызов сделать это через фукцию, но пока не понял как их вытащить из пространства имен функции\n"
   ]
  },
  {
   "cell_type": "code",
   "execution_count": 10,
   "metadata": {},
   "outputs": [],
   "source": [
    "#Тут напишу на русском. Я хотел изначально все сделать в функции, но потом отказался от этой идеи. Сейчас я понял, как это сделать\n",
    "#def read_all_excel(directory):\n",
    "#    directory += '\\\\' \n",
    "#    for i in all_excell_files: \n",
    "#        return exec('df%s = pd.read_excel(directory + str(i))' % all_excell_files.index(i))\n",
    "\n",
    "#read_all_excel('data')"
   ]
  },
  {
   "cell_type": "code",
   "execution_count": 11,
   "metadata": {},
   "outputs": [],
   "source": [
    "# In df_list we place al dataframe files(warrning not a name, object)\n",
    "\n",
    "df_list = []\n",
    "directory = 'data\\\\' \n",
    "for i in all_excell_files: \n",
    "    exec('a = df%s = pd.read_excel(directory + str(i))' % all_excell_files.index(i))\n",
    "    df_list.append(a)"
   ]
  },
  {
   "cell_type": "code",
   "execution_count": 12,
   "metadata": {},
   "outputs": [
    {
     "data": {
      "text/html": [
       "<div>\n",
       "<style scoped>\n",
       "    .dataframe tbody tr th:only-of-type {\n",
       "        vertical-align: middle;\n",
       "    }\n",
       "\n",
       "    .dataframe tbody tr th {\n",
       "        vertical-align: top;\n",
       "    }\n",
       "\n",
       "    .dataframe thead th {\n",
       "        text-align: right;\n",
       "    }\n",
       "</style>\n",
       "<table border=\"1\" class=\"dataframe\">\n",
       "  <thead>\n",
       "    <tr style=\"text-align: right;\">\n",
       "      <th></th>\n",
       "      <th>The information contained in Point Carbon's analyses, newsletters and on its website has been obtained from sources believed to be reliable. However, Point Carbon disclaims all warranties as to the accuracy, completeness or adequacy of such information.</th>\n",
       "    </tr>\n",
       "  </thead>\n",
       "  <tbody>\n",
       "    <tr>\n",
       "      <th>0</th>\n",
       "      <td>Product and distribution:</td>\n",
       "    </tr>\n",
       "    <tr>\n",
       "      <th>1</th>\n",
       "      <td>Redistribution of all or part of the Product(s...</td>\n",
       "    </tr>\n",
       "    <tr>\n",
       "      <th>2</th>\n",
       "      <td>The data, information, analysis, calculations,...</td>\n",
       "    </tr>\n",
       "  </tbody>\n",
       "</table>\n",
       "</div>"
      ],
      "text/plain": [
       "  The information contained in Point Carbon's analyses, newsletters and on its website has been obtained from sources believed to be reliable. However, Point Carbon disclaims all warranties as to the accuracy, completeness or adequacy of such information.\n",
       "0                          Product and distribution:                                                                                                                                                                                                           \n",
       "1  Redistribution of all or part of the Product(s...                                                                                                                                                                                                           \n",
       "2  The data, information, analysis, calculations,...                                                                                                                                                                                                           "
      ]
     },
     "execution_count": 12,
     "metadata": {},
     "output_type": "execute_result"
    }
   ],
   "source": [
    "df1"
   ]
  },
  {
   "cell_type": "code",
   "execution_count": 13,
   "metadata": {},
   "outputs": [
    {
     "data": {
      "text/html": [
       "<div>\n",
       "<style scoped>\n",
       "    .dataframe tbody tr th:only-of-type {\n",
       "        vertical-align: middle;\n",
       "    }\n",
       "\n",
       "    .dataframe tbody tr th {\n",
       "        vertical-align: top;\n",
       "    }\n",
       "\n",
       "    .dataframe thead th {\n",
       "        text-align: right;\n",
       "    }\n",
       "</style>\n",
       "<table border=\"1\" class=\"dataframe\">\n",
       "  <thead>\n",
       "    <tr style=\"text-align: right;\">\n",
       "      <th></th>\n",
       "      <th>The information contained in Point Carbon's analyses, newsletters and on its website has been obtained from sources believed to be reliable. However, Point Carbon disclaims all warranties as to the accuracy, completeness or adequacy of such information.</th>\n",
       "    </tr>\n",
       "  </thead>\n",
       "  <tbody>\n",
       "    <tr>\n",
       "      <th>0</th>\n",
       "      <td>Product and distribution:</td>\n",
       "    </tr>\n",
       "    <tr>\n",
       "      <th>1</th>\n",
       "      <td>Redistribution of all or part of the Product(s...</td>\n",
       "    </tr>\n",
       "    <tr>\n",
       "      <th>2</th>\n",
       "      <td>The data, information, analysis, calculations,...</td>\n",
       "    </tr>\n",
       "  </tbody>\n",
       "</table>\n",
       "</div>"
      ],
      "text/plain": [
       "  The information contained in Point Carbon's analyses, newsletters and on its website has been obtained from sources believed to be reliable. However, Point Carbon disclaims all warranties as to the accuracy, completeness or adequacy of such information.\n",
       "0                          Product and distribution:                                                                                                                                                                                                           \n",
       "1  Redistribution of all or part of the Product(s...                                                                                                                                                                                                           \n",
       "2  The data, information, analysis, calculations,...                                                                                                                                                                                                           "
      ]
     },
     "execution_count": 13,
     "metadata": {},
     "output_type": "execute_result"
    }
   ],
   "source": [
    "df1.head()"
   ]
  },
  {
   "cell_type": "markdown",
   "metadata": {},
   "source": [
    "## 3. Если в файле нет одной из колонок:\n",
    "<ul>\n",
    "<li>Commodity</li>\n",
    "<li>Cause</li> \n",
    "<li>Region</li>\n",
    "<li>Country / Territory</li>\n",
    "<li>Company</li>\n",
    "<li>Site</li>\n",
    "<li>Plant No.</li>\n",
    "<li>Estimated Start Date</li>\n",
    "<li>Expected Annual Capacity Change (kt)</li>\n",
    "<li>Total Annual Capacity (kt)</li>\n",
    "<li>Swing Capable</li>\n",
    "выдать сообщение статуса error с помощью библиотеки logging.<b> \n",
    "Сообщение должно быть достаточно информативным. (не просто \"ахтунг, тут ошибка\")</b>\n",
    "<br/>\n",
    "4 . Если колонки присутствуют переместить файл из директории data в директорию valid_data, записав имя перемещаемого файла в debug\n",
    "<br/>\n",
    "<p>5. Если колонки отсутствовали переместить файл из директории data в директорию invalid_data, записав имя перемещаемого файла в debug</p>"
   ]
  },
  {
   "cell_type": "code",
   "execution_count": 14,
   "metadata": {},
   "outputs": [],
   "source": [
    "column_tuple = ('Commodity', 'Cause', 'Region', 'Country / Territory','Company', 'Site', 'Plant No.', 'Estimated Start Date',\n",
    "                'Expected Annual Capacity Change (kt)', 'Total Annual Capacity (kt)', 'Swing Capable')"
   ]
  },
  {
   "cell_type": "code",
   "execution_count": 15,
   "metadata": {},
   "outputs": [],
   "source": [
    "def check_column(df, cur_dir,file):\n",
    "    '''Check columns in file'''\n",
    "    df.head()\n",
    "    for i in column_tuple:\n",
    "        if i not in df.columns:\n",
    "            logging.error('This is very informative error! There is no column, from column_list, \\nin your file {}'.format(file))\n",
    "            try:\n",
    "                os.mkdir('invalid_data')\n",
    "            except:\n",
    "                print('this folder already exist')\n",
    "            try:\n",
    "                shutil.move(cur_dir + file, r'invalid_data\\{}'.format(file))\n",
    "                logging.debug('We add {} file in invalid_data directory'.format(file))\n",
    "            except:\n",
    "                logging.error('This file alredy moved or didn\\'t excist')\n",
    "            return file\n",
    "    try:\n",
    "        os.mkdir('valid_data')\n",
    "    except:\n",
    "        print('this folder already exist')\n",
    "    try:    \n",
    "        shutil.move(cur_dir + file, r'valid_data\\{}'.format(file))\n",
    "        logging.debug('We add {} file in valid_data directory'.format(file))\n",
    "    except:\n",
    "        logging.error('This file alredy moved or didn\\'t excist')\n",
    "    return file"
   ]
  },
  {
   "cell_type": "code",
   "execution_count": 16,
   "metadata": {},
   "outputs": [],
   "source": [
    "i = 0\n",
    "while i < len(df_list):\n",
    "    check_column(df_list[i], 'data\\\\', all_excell_files[i])\n",
    "    i += 1 "
   ]
  },
  {
   "cell_type": "markdown",
   "metadata": {},
   "source": [
    "## 7. Записать весь лог logging в файл, поместить файл в директорию logs, имя файла должно быть log_YYYY_MM_DD_HH_MM_SS.log"
   ]
  },
  {
   "cell_type": "code",
   "execution_count": 17,
   "metadata": {},
   "outputs": [],
   "source": [
    "#Я не смог изменить имя лог с помощью\n",
    "#logging.basicConfig(filename='log_file.log')\n",
    "now = datetime.now()\n",
    "cur_time = str(now.strftime(\"%Y_%m-%d_%H_%M_%S\"))\n",
    "logging.shutdown()\n",
    "os.rename('log_file.log', 'log_{}.log'.format(cur_time))"
   ]
  }
 ],
 "metadata": {
  "kernelspec": {
   "display_name": "Python 3",
   "language": "python",
   "name": "python3"
  },
  "language_info": {
   "codemirror_mode": {
    "name": "ipython",
    "version": 3
   },
   "file_extension": ".py",
   "mimetype": "text/x-python",
   "name": "python",
   "nbconvert_exporter": "python",
   "pygments_lexer": "ipython3",
   "version": "3.8.3"
  }
 },
 "nbformat": 4,
 "nbformat_minor": 4
}
