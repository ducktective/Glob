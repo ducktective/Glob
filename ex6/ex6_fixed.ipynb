{
 "cells": [
  {
   "cell_type": "markdown",
   "metadata": {},
   "source": [
    "## 0. Создать папку source, поместить туда файлы из приложения ( имитируем папки с источником данных)"
   ]
  },
  {
   "cell_type": "code",
   "execution_count": 1,
   "metadata": {},
   "outputs": [],
   "source": [
    "import os\n",
    "import shutil \n",
    "import numpy as np\n",
    "import pandas as pd\n",
    "from datetime import datetime\n",
    "import xlrd\n",
    "import re\n",
    "import logging"
   ]
  },
  {
   "cell_type": "code",
   "execution_count": 2,
   "metadata": {},
   "outputs": [],
   "source": [
    "def list_of_excel_files(dir_name):\n",
    "    '''\n",
    "        Return only excel files.\n",
    "    '''\n",
    "    only_excel_files = []\n",
    "    if os.path.exists(dir_name):\n",
    "        all_files = os.listdir(dir_name)\n",
    "        i = 0\n",
    "        while i < len(all_files):\n",
    "            match = re.search(r'\\b\\.xls$',str(all_files[i]))\n",
    "            if match:\n",
    "                only_excel_files.append(all_files[i])\n",
    "            match = re.search(r'\\b\\.xlsx',str(all_files[i]))\n",
    "            if match:\n",
    "                only_excel_files.append(all_files[i])\n",
    "            i += 1\n",
    "        return only_excel_files\n",
    "    else:\n",
    "        print('This dirrectory doesn\\'t exist.')        "
   ]
  },
  {
   "cell_type": "code",
   "execution_count": null,
   "metadata": {},
   "outputs": [],
   "source": [
    "def check_column(df, cur_dir, valid_dir, invalid_dir, file):\n",
    "    '''Check columns in file'''\n",
    "    for i in column_tuple:\n",
    "        if i not in df.columns:\n",
    "            logging.error('This is very informative error! There is no column, from column_list, \\nin your file {}'.format(file))\n",
    "            try:\n",
    "                shutil.move(os.path.join(cur_dir,file), os.path.join(invalid_dir,file))\n",
    "                logging.debug(f'We add {file} file in invalid_data directory')\n",
    "            except:\n",
    "                logging.error('This file alredy moved or didn\\'t excist')\n",
    "            return file   \n",
    "    try:    \n",
    "        shutil.move(os.path.join(cur_dir,file), os.path.join(valid_dir,file))\n",
    "        logging.debug(f'We add {file} file in valid_data directory')\n",
    "    except:\n",
    "        logging.error('This file alredy moved or didn\\'t excist')\n",
    "    return file"
   ]
  },
  {
   "cell_type": "code",
   "execution_count": null,
   "metadata": {},
   "outputs": [],
   "source": [
    "#Create all directorys that we need\n",
    "def create_all_dir(*args):\n",
    "    '''Create directory'''\n",
    "    for i in args:\n",
    "        try:\n",
    "            os.mkdir(i)\n",
    "        except:\n",
    "            print(f'Folder {i} already exist')"
   ]
  },
  {
   "cell_type": "code",
   "execution_count": null,
   "metadata": {},
   "outputs": [],
   "source": [
    "def copy_files(only_excel_files, source_directory, new_directory):\n",
    "    '''Copy files in new_dirrectory '''\n",
    "    for i in only_excel_files:\n",
    "        try:\n",
    "            shutil.copy(r'{}\\{}'.format(source_directory, i), r'{}\\{}'.format(new_data_directory, i))\n",
    "        except:\n",
    "            print('This file doesn\\'t exist.')\n",
    "            logging.error('This files doesn\\'t exist')\n"
   ]
  },
  {
   "cell_type": "code",
   "execution_count": 3,
   "metadata": {},
   "outputs": [],
   "source": [
    "#Create a log file. In the end of programm we will change name.\n",
    "logging.basicConfig(filename='log_file.log', level = logging.DEBUG)"
   ]
  },
  {
   "cell_type": "code",
   "execution_count": 4,
   "metadata": {},
   "outputs": [],
   "source": [
    "#That list contains all excel's file\n",
    "only_excel_files = list_of_excel_files('source')"
   ]
  },
  {
   "cell_type": "code",
   "execution_count": 5,
   "metadata": {},
   "outputs": [],
   "source": [
    "#That is all directory\n",
    "new_data_directory = 'data'\n",
    "source_directory = 'source'\n",
    "invalid_files = 'invalid_files'\n",
    "valid_files = 'valid_files'"
   ]
  },
  {
   "cell_type": "code",
   "execution_count": 7,
   "metadata": {},
   "outputs": [],
   "source": [
    "create_all_dir(invalid_files, valid_files, new_data_directory)"
   ]
  },
  {
   "cell_type": "markdown",
   "metadata": {},
   "source": [
    "## 1. Переместить файлы из папки source в папку data (имитируем перемещение)"
   ]
  },
  {
   "cell_type": "code",
   "execution_count": 9,
   "metadata": {},
   "outputs": [],
   "source": [
    "copy_files(only_excel_files, source_directory, new_data_directory)"
   ]
  },
  {
   "cell_type": "markdown",
   "metadata": {},
   "source": [
    "## 2. Прочесть подряд все excel файлы в директории data в dataframe, писать имя читаемого файла в debug"
   ]
  },
  {
   "cell_type": "code",
   "execution_count": 10,
   "metadata": {},
   "outputs": [],
   "source": [
    "#Add file's names in log\n",
    "for i in only_excel_files:\n",
    "    logging.debug(fr'Add file {i}')    "
   ]
  },
  {
   "cell_type": "markdown",
   "metadata": {},
   "source": [
    "## 3. Если в файле нет одной из колонок:\n",
    "<ul>\n",
    "<li>Commodity</li>\n",
    "<li>Cause</li> \n",
    "<li>Region</li>\n",
    "<li>Country / Territory</li>\n",
    "<li>Company</li>\n",
    "<li>Site</li>\n",
    "<li>Plant No.</li>\n",
    "<li>Estimated Start Date</li>\n",
    "<li>Expected Annual Capacity Change (kt)</li>\n",
    "<li>Total Annual Capacity (kt)</li>\n",
    "<li>Swing Capable</li>\n",
    "выдать сообщение статуса error с помощью библиотеки logging.<b> \n",
    "Сообщение должно быть достаточно информативным. (не просто \"ахтунг, тут ошибка\")</b>\n",
    "<br/>\n",
    "4 . Если колонки присутствуют переместить файл из директории data в директорию valid_data, записав имя перемещаемого файла в debug\n",
    "<br/>\n",
    "<p>5. Если колонки отсутствовали переместить файл из директории data в директорию invalid_data, записав имя перемещаемого файла в debug</p>"
   ]
  },
  {
   "cell_type": "code",
   "execution_count": 11,
   "metadata": {},
   "outputs": [],
   "source": [
    "column_tuple = ('Commodity', 'Cause', 'Region', 'Country / Territory','Company', 'Site', 'Plant No.', 'Estimated Start Date',\n",
    "                'Expected Annual Capacity Change (kt)', 'Total Annual Capacity (kt)', 'Swing Capable')"
   ]
  },
  {
   "cell_type": "code",
   "execution_count": 13,
   "metadata": {},
   "outputs": [],
   "source": [
    "#df_list contain name of dataframe and dataframe\n",
    "df_list = []\n",
    "for i in only_excel_files:\n",
    "    path = os.path.join(new_data_directory, i)\n",
    "    exec('f1 = df%s = pd.read_excel(path)' % only_excel_files.index(i))\n",
    "    f2 = 'df%s' % only_excel_files.index(i)\n",
    "    df_list.append([f2,f1]) \n",
    "logging.debug('All files from only_excel_files was readed in df\\'s variables. For example if there was 3 files, that mean we have df0, df1 and df2 respectively')"
   ]
  },
  {
   "cell_type": "code",
   "execution_count": 17,
   "metadata": {},
   "outputs": [],
   "source": [
    "i = 0\n",
    "while i < len(df_list):\n",
    "    check_column(df_list[i][1], new_data_directory, valid_files,invalid_files,only_excel_files[i])\n",
    "    i += 1 \n"
   ]
  },
  {
   "cell_type": "markdown",
   "metadata": {},
   "source": [
    "## 7. Записать весь лог logging в файл, поместить файл в директорию logs, имя файла должно быть log_YYYY_MM_DD_HH_MM_SS.log"
   ]
  },
  {
   "cell_type": "code",
   "execution_count": 19,
   "metadata": {},
   "outputs": [],
   "source": [
    "#Я не смог изменить имя лог с помощью\n",
    "#logging.basicConfig(filename='log_file.log')\n",
    "now = datetime.now()\n",
    "cur_time = str(now.strftime(\"%Y_%m-%d_%H_%M_%S\"))\n",
    "logging.shutdown()\n",
    "os.rename('log_file.log', 'log_{}.log'.format(cur_time))"
   ]
  }
 ],
 "metadata": {
  "kernelspec": {
   "display_name": "Python 3",
   "language": "python",
   "name": "python3"
  },
  "language_info": {
   "codemirror_mode": {
    "name": "ipython",
    "version": 3
   },
   "file_extension": ".py",
   "mimetype": "text/x-python",
   "name": "python",
   "nbconvert_exporter": "python",
   "pygments_lexer": "ipython3",
   "version": "3.8.3"
  }
 },
 "nbformat": 4,
 "nbformat_minor": 4
}
