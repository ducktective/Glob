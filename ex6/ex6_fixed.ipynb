{
 "cells": [
  {
   "cell_type": "markdown",
   "metadata": {},
   "source": [
    "## 0. Создать папку source, поместить туда файлы из приложения ( имитируем папки с источником данных)"
   ]
  },
  {
   "cell_type": "code",
   "execution_count": 1,
   "metadata": {},
   "outputs": [],
   "source": [
    "import os\n",
    "import shutil \n",
    "import numpy as np\n",
    "import pandas as pd\n",
    "from datetime import datetime\n",
    "import xlrd\n",
    "import re\n",
    "import logging"
   ]
  },
  {
   "cell_type": "code",
   "execution_count": 2,
   "metadata": {},
   "outputs": [],
   "source": [
    "def list_of_excel_files(dir_name):\n",
    "    '''\n",
    "        Return only excel files.\n",
    "    '''\n",
    "    only_excel_files = []\n",
    "    if os.path.exists(dir_name):\n",
    "        all_files = os.listdir(dir_name)\n",
    "        i = 0\n",
    "        while i < len(all_files):\n",
    "            match = re.search(r'\\b\\.xls$',str(all_files[i]))\n",
    "            if match:\n",
    "                only_excel_files.append(all_files[i])\n",
    "            match = re.search(r'\\b\\.xlsx',str(all_files[i]))\n",
    "            if match:\n",
    "                only_excel_files.append(all_files[i])\n",
    "            i += 1\n",
    "        return only_excel_files\n",
    "    else:\n",
    "        loggging.error(f'{dir_name} dirrectory doesn\\'t exist.')        "
   ]
  },
  {
   "cell_type": "code",
   "execution_count": 3,
   "metadata": {},
   "outputs": [],
   "source": [
    "def check_column(df,df_name):\n",
    "    '''\n",
    "        Cheking file on template. \n",
    "        df is dataframe\n",
    "        df_name is name of dataframe\n",
    "    '''\n",
    "    for column in column_tuple:\n",
    "        if column not in df.columns:\n",
    "            logging.error(f'Dataframe {df_name} didn\\'t pass validation.')\n",
    "            return False\n",
    "    return True"
   ]
  },
  {
   "cell_type": "code",
   "execution_count": 4,
   "metadata": {},
   "outputs": [],
   "source": [
    "def move_files(excel_file, cur_dir, final_dir):\n",
    "    '''\n",
    "        Moving file from cur_dir to final_dir\n",
    "    '''\n",
    "    shutil.move(os.path.join(cur_dir,excel_file), os.path.join(final_dir,excel_file))\n",
    "    logging.debug(f'We add {excel_file} file in {final_dir} directory')    "
   ]
  },
  {
   "cell_type": "code",
   "execution_count": 5,
   "metadata": {},
   "outputs": [],
   "source": [
    "def create_necessary_dir(*necessary_directory):\n",
    "    '''\n",
    "        Create all directory that you'll need in program bellow. \n",
    "        Args takes tuple of directory's name.\n",
    "    '''\n",
    "    for directory in necessary_directory:\n",
    "        try:\n",
    "            os.mkdir(directory)\n",
    "        except:\n",
    "            logging.debug(f'Folder {directory} already exist')"
   ]
  },
  {
   "cell_type": "code",
   "execution_count": 6,
   "metadata": {},
   "outputs": [],
   "source": [
    "def copy_files(only_excel_files, source_directory, new_directory):\n",
    "    '''Copy files in new_dirrectory '''\n",
    "    for i in only_excel_files:\n",
    "        try:\n",
    "            shutil.copy(os.path.join(source_directory, i), os.path.join(new_data_directory, i))\n",
    "        except:\n",
    "            logging.error('This files doesn\\'t exist')\n"
   ]
  },
  {
   "cell_type": "code",
   "execution_count": 7,
   "metadata": {},
   "outputs": [],
   "source": [
    "#Create a log file. In the end of programm we will change name.\n",
    "logging.basicConfig(filename='log_file.log', level = logging.DEBUG)"
   ]
  },
  {
   "cell_type": "code",
   "execution_count": 8,
   "metadata": {},
   "outputs": [],
   "source": [
    "#That list contains all excel's file\n",
    "only_excel_files = list_of_excel_files('source')"
   ]
  },
  {
   "cell_type": "code",
   "execution_count": 9,
   "metadata": {},
   "outputs": [],
   "source": [
    "#That is all directory\n",
    "new_data_directory = 'data'\n",
    "source_directory = 'source'\n",
    "invalid_files = 'invalid_files'\n",
    "valid_files = 'valid_files'"
   ]
  },
  {
   "cell_type": "code",
   "execution_count": 10,
   "metadata": {},
   "outputs": [],
   "source": [
    "create_necessary_dir(invalid_files, valid_files, new_data_directory)"
   ]
  },
  {
   "cell_type": "markdown",
   "metadata": {},
   "source": [
    "## 1. Переместить файлы из папки source в папку data (имитируем перемещение)"
   ]
  },
  {
   "cell_type": "code",
   "execution_count": 11,
   "metadata": {},
   "outputs": [],
   "source": [
    "copy_files(only_excel_files, source_directory, new_data_directory)"
   ]
  },
  {
   "cell_type": "markdown",
   "metadata": {},
   "source": [
    "## 2. Прочесть подряд все excel файлы в директории data в dataframe, писать имя читаемого файла в debug"
   ]
  },
  {
   "cell_type": "code",
   "execution_count": 12,
   "metadata": {},
   "outputs": [],
   "source": [
    "#Add excel files in log\n",
    "for i in only_excel_files:\n",
    "    logging.debug(fr'Add file {i}')    "
   ]
  },
  {
   "cell_type": "markdown",
   "metadata": {},
   "source": [
    "## 3. Если в файле нет одной из колонок:\n",
    "<ul>\n",
    "<li>Commodity</li>\n",
    "<li>Cause</li> \n",
    "<li>Region</li>\n",
    "<li>Country / Territory</li>\n",
    "<li>Company</li>\n",
    "<li>Site</li>\n",
    "<li>Plant No.</li>\n",
    "<li>Estimated Start Date</li>\n",
    "<li>Expected Annual Capacity Change (kt)</li>\n",
    "<li>Total Annual Capacity (kt)</li>\n",
    "<li>Swing Capable</li>\n",
    "выдать сообщение статуса error с помощью библиотеки logging.<b> \n",
    "Сообщение должно быть достаточно информативным. (не просто \"ахтунг, тут ошибка\")</b>\n",
    "<br/>\n",
    "4 . Если колонки присутствуют переместить файл из директории data в директорию valid_data, записав имя перемещаемого файла в debug\n",
    "<br/>\n",
    "<p>5. Если колонки отсутствовали переместить файл из директории data в директорию invalid_data, записав имя перемещаемого файла в debug</p>"
   ]
  },
  {
   "cell_type": "code",
   "execution_count": 13,
   "metadata": {},
   "outputs": [],
   "source": [
    "column_tuple = ('Commodity', 'Cause', 'Region', 'Country / Territory','Company', 'Site', 'Plant No.', 'Estimated Start Date',\n",
    "                'Expected Annual Capacity Change (kt)', 'Total Annual Capacity (kt)', 'Swing Capable')"
   ]
  },
  {
   "cell_type": "code",
   "execution_count": 14,
   "metadata": {},
   "outputs": [],
   "source": [
    "#df_list contain name of dataframe and dataframe\n",
    "df_list = []\n",
    "for i in only_excel_files:\n",
    "    path = os.path.join(new_data_directory, i)\n",
    "    exec('f1 = df%s = pd.read_excel(path)' % only_excel_files.index(i))\n",
    "    f2 = 'df%s' % only_excel_files.index(i)\n",
    "    df_list.append([f2,f1]) \n",
    "logging.debug('All files from only_excel_files was readed in df\\'s variables. For example if there was 3 files, that mean we have df0, df1 and df2 respectively')"
   ]
  },
  {
   "cell_type": "code",
   "execution_count": 15,
   "metadata": {},
   "outputs": [],
   "source": [
    "#Checking and moving excel files\n",
    "i = 0\n",
    "while i < len(df_list):\n",
    "    if check_column(df_list[i][1],df_list[i][0]):#first argument dataframe object, second his name(for example df0)\n",
    "        move_files(only_excel_files[i], new_data_directory, valid_files)\n",
    "    else:\n",
    "        move_files(only_excel_files[i], new_data_directory, invalid_files)\n",
    "    i += 1"
   ]
  },
  {
   "cell_type": "markdown",
   "metadata": {},
   "source": [
    "## 7. Записать весь лог logging в файл, поместить файл в директорию logs, имя файла должно быть log_YYYY_MM_DD_HH_MM_SS.log"
   ]
  },
  {
   "cell_type": "code",
   "execution_count": 16,
   "metadata": {},
   "outputs": [],
   "source": [
    "now = datetime.now()\n",
    "cur_time = str(now.strftime(\"%Y_%m-%d_%H_%M_%S\"))\n",
    "logging.shutdown()\n",
    "os.rename('log_file.log', 'log_{}.log'.format(cur_time))"
   ]
  }
 ],
 "metadata": {
  "kernelspec": {
   "display_name": "Python 3",
   "language": "python",
   "name": "python3"
  },
  "language_info": {
   "codemirror_mode": {
    "name": "ipython",
    "version": 3
   },
   "file_extension": ".py",
   "mimetype": "text/x-python",
   "name": "python",
   "nbconvert_exporter": "python",
   "pygments_lexer": "ipython3",
   "version": "3.8.3"
  }
 },
 "nbformat": 4,
 "nbformat_minor": 4
}
